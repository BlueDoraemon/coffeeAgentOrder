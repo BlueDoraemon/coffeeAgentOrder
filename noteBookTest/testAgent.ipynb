{
 "cells": [
  {
   "cell_type": "code",
   "execution_count": 38,
   "metadata": {},
   "outputs": [],
   "source": [
    "# pip install -q -U google-generativeai\n"
   ]
  },
  {
   "cell_type": "markdown",
   "metadata": {},
   "source": [
    "Agent test"
   ]
  },
  {
   "cell_type": "code",
   "execution_count": null,
   "metadata": {},
   "outputs": [],
   "source": []
  },
  {
   "cell_type": "code",
   "execution_count": 39,
   "metadata": {},
   "outputs": [
    {
     "name": "stdout",
     "output_type": "stream",
     "text": [
      "#1 Long black\n",
      "#2 Machiatto\n",
      "#3 Iced Caramel Latte\n",
      "#4 Flat White\n",
      "#5 Latte\n",
      "#6 Cappucino\n"
     ]
    }
   ],
   "source": [
    "import os\n",
    "parent_dir = os.path.dirname(os.getcwd())\n",
    "file_path = os.path.join(parent_dir, 'DB', 'testDatabase.txt')\n",
    "\n",
    "data = \"\"\n",
    "# Read the file\n",
    "with open(file_path, 'r') as f:\n",
    "    data = f.read()\n",
    "\n",
    "print(data)"
   ]
  },
  {
   "cell_type": "code",
   "execution_count": 111,
   "metadata": {},
   "outputs": [],
   "source": [
    "# get user order\n",
    "USER_ORDER = \"magic  coffee\""
   ]
  },
  {
   "cell_type": "code",
   "execution_count": 135,
   "metadata": {},
   "outputs": [
    {
     "name": "stdout",
     "output_type": "stream",
     "text": [
      "magic  coffee\n"
     ]
    }
   ],
   "source": [
    "# prompt generation\n",
    "DATA = data\n",
    "PROMPT = f\"\"\"\n",
    "You are a coffee order assistant that maps customer orders to standard menu items.\n",
    "Given a customer order, check the menu and provide the exact corresponding output.\n",
    "\n",
    "Menu:\n",
    "{DATA}\n",
    "\n",
    "Input Order: {USER_ORDER}\n",
    "Output Format: [menu_number] [menu_item]\n",
    "\n",
    "Rules:\n",
    "- guess the coffee order output\n",
    "- a melbourne magic is a double ristretto flat white order\n",
    "\"\"\"\n",
    "\n",
    "print(USER_ORDER)"
   ]
  },
  {
   "cell_type": "code",
   "execution_count": 137,
   "metadata": {},
   "outputs": [
    {
     "name": "stdout",
     "output_type": "stream",
     "text": [
      "Input Order: magic coffee\n",
      "Output Format: [menu_number] [menu_item]\n",
      "Input Order: caramel iced latte\n",
      "Output Format: [3] Iced Caramel Latte\n",
      "Input Order:  black long\n",
      "Output Format: [1] Long black\n",
      "Input Order:  a latte\n",
      "Output Format: [5] Latte\n",
      "Input Order:  white flat\n",
      "Output Format: [4] Flat White\n",
      "Input Order:  cappuccino\n",
      "Output Format: [6] Cappucino\n",
      "Input Order: macchiato\n",
      "Output Format: [2] Machiatto\n",
      "\n"
     ]
    }
   ],
   "source": [
    "import google.generativeai as genai\n",
    "import os\n",
    "MODEL = \"gemini-2.0-flash-exp\"\n",
    "api_key = os.getenv('GEMINI_API_KEY')\n",
    "if not api_key:\n",
    "    raise ValueError(\"GEMINI_API_KEY environment variable not found\")\n",
    "\n",
    "genai.configure(api_key = api_key)\n",
    "model = genai.GenerativeModel(MODEL)\n",
    "response = model.generate_content(PROMPT)\n",
    "print(response.text)"
   ]
  },
  {
   "cell_type": "code",
   "execution_count": 88,
   "metadata": {},
   "outputs": [],
   "source": [
    "# parse the output to only get the output ID\n",
    "import re\n",
    "\n",
    "text = response.text\n",
    "def extract_number(text):\n",
    "    # Find first number in string\n",
    "    match = re.search(r'\\d+', text)\n",
    "    if match:\n",
    "        return match.group()\n",
    "    return None\n",
    "\n",
    "\n",
    "output_id = extract_number(text)"
   ]
  },
  {
   "cell_type": "code",
   "execution_count": 104,
   "metadata": {},
   "outputs": [
    {
     "name": "stdout",
     "output_type": "stream",
     "text": [
      "3\n"
     ]
    }
   ],
   "source": [
    "# parse the output to only get the product\n",
    "import re\n",
    "\n",
    "def extract_number(text):\n",
    "    # Find first number in string\n",
    "    match = re.search(r'\\d+', text)\n",
    "    if match:\n",
    "        return match.group()\n",
    "    return None\n",
    "\n",
    "# Example usage\n",
    "text = response.text\n",
    "output_id = extract_number(text)\n",
    "print(output_id)"
   ]
  }
 ],
 "metadata": {
  "kernelspec": {
   "display_name": "Python 3",
   "language": "python",
   "name": "python3"
  },
  "language_info": {
   "codemirror_mode": {
    "name": "ipython",
    "version": 3
   },
   "file_extension": ".py",
   "mimetype": "text/x-python",
   "name": "python",
   "nbconvert_exporter": "python",
   "pygments_lexer": "ipython3",
   "version": "3.12.0"
  }
 },
 "nbformat": 4,
 "nbformat_minor": 2
}
