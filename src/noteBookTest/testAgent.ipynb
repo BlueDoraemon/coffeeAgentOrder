{
 "cells": [
  {
   "cell_type": "code",
   "execution_count": 1,
   "metadata": {},
   "outputs": [],
   "source": [
    "# pip install -q -U google-generativeai\n"
   ]
  },
  {
   "cell_type": "markdown",
   "metadata": {},
   "source": [
    "Agent test"
   ]
  },
  {
   "cell_type": "code",
   "execution_count": null,
   "metadata": {},
   "outputs": [],
   "source": []
  },
  {
   "cell_type": "code",
   "execution_count": 8,
   "metadata": {},
   "outputs": [
    {
     "name": "stdout",
     "output_type": "stream",
     "text": [
      "d:\\LLMProject\\coffeeAgentOrder\\src\n"
     ]
    },
    {
     "ename": "FileNotFoundError",
     "evalue": "[Errno 2] No such file or directory: 'd:\\\\LLMProject\\\\coffeeAgentOrder\\\\src\\\\DB\\\\testDatabase.txt'",
     "output_type": "error",
     "traceback": [
      "\u001b[1;31m---------------------------------------------------------------------------\u001b[0m",
      "\u001b[1;31mFileNotFoundError\u001b[0m                         Traceback (most recent call last)",
      "Cell \u001b[1;32mIn[8], line 9\u001b[0m\n\u001b[0;32m      7\u001b[0m data \u001b[38;5;241m=\u001b[39m \u001b[38;5;124m\"\u001b[39m\u001b[38;5;124m\"\u001b[39m\n\u001b[0;32m      8\u001b[0m \u001b[38;5;66;03m# Read the file\u001b[39;00m\n\u001b[1;32m----> 9\u001b[0m \u001b[38;5;28;01mwith\u001b[39;00m \u001b[38;5;28;43mopen\u001b[39;49m\u001b[43m(\u001b[49m\u001b[43mfile_path\u001b[49m\u001b[43m,\u001b[49m\u001b[43m \u001b[49m\u001b[38;5;124;43m'\u001b[39;49m\u001b[38;5;124;43mr\u001b[39;49m\u001b[38;5;124;43m'\u001b[39;49m\u001b[43m)\u001b[49m \u001b[38;5;28;01mas\u001b[39;00m f:\n\u001b[0;32m     10\u001b[0m     data \u001b[38;5;241m=\u001b[39m f\u001b[38;5;241m.\u001b[39mread()\n\u001b[0;32m     12\u001b[0m \u001b[38;5;28mprint\u001b[39m(data)\n",
      "File \u001b[1;32m~\\AppData\\Roaming\\Python\\Python312\\site-packages\\IPython\\core\\interactiveshell.py:324\u001b[0m, in \u001b[0;36m_modified_open\u001b[1;34m(file, *args, **kwargs)\u001b[0m\n\u001b[0;32m    317\u001b[0m \u001b[38;5;28;01mif\u001b[39;00m file \u001b[38;5;129;01min\u001b[39;00m {\u001b[38;5;241m0\u001b[39m, \u001b[38;5;241m1\u001b[39m, \u001b[38;5;241m2\u001b[39m}:\n\u001b[0;32m    318\u001b[0m     \u001b[38;5;28;01mraise\u001b[39;00m \u001b[38;5;167;01mValueError\u001b[39;00m(\n\u001b[0;32m    319\u001b[0m         \u001b[38;5;124mf\u001b[39m\u001b[38;5;124m\"\u001b[39m\u001b[38;5;124mIPython won\u001b[39m\u001b[38;5;124m'\u001b[39m\u001b[38;5;124mt let you open fd=\u001b[39m\u001b[38;5;132;01m{\u001b[39;00mfile\u001b[38;5;132;01m}\u001b[39;00m\u001b[38;5;124m by default \u001b[39m\u001b[38;5;124m\"\u001b[39m\n\u001b[0;32m    320\u001b[0m         \u001b[38;5;124m\"\u001b[39m\u001b[38;5;124mas it is likely to crash IPython. If you know what you are doing, \u001b[39m\u001b[38;5;124m\"\u001b[39m\n\u001b[0;32m    321\u001b[0m         \u001b[38;5;124m\"\u001b[39m\u001b[38;5;124myou can use builtins\u001b[39m\u001b[38;5;124m'\u001b[39m\u001b[38;5;124m open.\u001b[39m\u001b[38;5;124m\"\u001b[39m\n\u001b[0;32m    322\u001b[0m     )\n\u001b[1;32m--> 324\u001b[0m \u001b[38;5;28;01mreturn\u001b[39;00m \u001b[43mio_open\u001b[49m\u001b[43m(\u001b[49m\u001b[43mfile\u001b[49m\u001b[43m,\u001b[49m\u001b[43m \u001b[49m\u001b[38;5;241;43m*\u001b[39;49m\u001b[43margs\u001b[49m\u001b[43m,\u001b[49m\u001b[43m \u001b[49m\u001b[38;5;241;43m*\u001b[39;49m\u001b[38;5;241;43m*\u001b[39;49m\u001b[43mkwargs\u001b[49m\u001b[43m)\u001b[49m\n",
      "\u001b[1;31mFileNotFoundError\u001b[0m: [Errno 2] No such file or directory: 'd:\\\\LLMProject\\\\coffeeAgentOrder\\\\src\\\\DB\\\\testDatabase.txt'"
     ]
    }
   ],
   "source": [
    "import os\n",
    "parent_dir = os.path.dirname(os.getcwd())\n",
    "print(parent_dir)\n",
    "\n",
    "file_path = os.path.join(parent_dir,'noteBookTest', 'DB', 'testDatabase.txt')\n",
    "\n",
    "data = \"\"\n",
    "# Read the file\n",
    "with open(file_path, 'r') as f:\n",
    "    data = f.read()\n",
    "\n",
    "print(data)"
   ]
  },
  {
   "cell_type": "code",
   "execution_count": 181,
   "metadata": {},
   "outputs": [],
   "source": []
  },
  {
   "cell_type": "code",
   "execution_count": 3,
   "metadata": {},
   "outputs": [],
   "source": [
    "# prompt generation\n",
    "def generatePrompt(DATA: str, USER_ORDER: str) -> str:\n",
    "    return f\"\"\"\n",
    "    You are a coffee order assistant that maps customer orders to standard menu items.\n",
    "    Given a customer order, check the menu and provide the exact corresponding output.\n",
    "\n",
    "    Menu:\n",
    "    {DATA}\n",
    "\n",
    "    Input Order: {USER_ORDER}\n",
    "    Output Format: [menu_number] [size] [menu_item] [short additional notes or extras: e.g. 3/4, how many sugars, add coffee, add chocolate]\n",
    "\n",
    "    Rules:\n",
    "    - guess the coffee order output\n",
    "    - melbourne magic is a double ristretto flat white\n",
    "    \"\"\""
   ]
  },
  {
   "cell_type": "code",
   "execution_count": 4,
   "metadata": {},
   "outputs": [],
   "source": [
    "def generateJudgePrompt(output: str, DATA: str, USER_ORDER: str) -> str:\n",
    "    return f\"\"\"You are a precise coffee order validator that evaluates the accuracy of coffee order mappings. Your role is to judge whether the mapped order matches the customer's intent.\n",
    "\n",
    "Menu:\n",
    "{DATA}\n",
    "\n",
    "Original Customer Order: {USER_ORDER}\n",
    "Coffee agent guess: {output}\n",
    "\n",
    "Instructions:\n",
    "1. Analyze if the mapped order accurately represents the customer's intent\n",
    "2. Consider common coffee order variations and aliases\n",
    "3. Account for regional naming conventions (e.g., Melbourne Magic = Double Ristretto Flat White)\n",
    "4. Check for specific customizations (size, strength, milk type)\n",
    "\n",
    "Evaluation Criteria:\n",
    "- Base drink match (e.g., latte, cappuccino, flat white)\n",
    "- Drink size if specified\n",
    "- Coffee strength (single/double shot, ristretto)\n",
    "- Milk type if specified\n",
    "- Temperature preference if mentioned\n",
    "- Additional modifications (extra hot, no foam, etc.)\n",
    "\n",
    "\"\"\" + \"\"\"Output Format:\n",
    "{\n",
    "    \"is_valid\": boolean,\n",
    "    \"confidence\": float (0.0-1.0),\n",
    "    \"explanation\": string,\n",
    "    \"suggested_correction\": string (if is_valid is false)\n",
    "}\n",
    "\n",
    "Example Response:\n",
    "{\n",
    "    \"is_valid\": true,\n",
    "    \"confidence\": 0.95,\n",
    "    \"explanation\": \"Correctly mapped 'magic' to 'Double Ristretto Flat White'\",\n",
    "    \"suggested_correction\": null\n",
    "}\n",
    "\"\"\""
   ]
  },
  {
   "cell_type": "code",
   "execution_count": 5,
   "metadata": {},
   "outputs": [
    {
     "name": "stderr",
     "output_type": "stream",
     "text": [
      "c:\\Users\\hello\\AppData\\Local\\Programs\\Python\\Python312\\Lib\\site-packages\\tqdm\\auto.py:21: TqdmWarning: IProgress not found. Please update jupyter and ipywidgets. See https://ipywidgets.readthedocs.io/en/stable/user_install.html\n",
      "  from .autonotebook import tqdm as notebook_tqdm\n"
     ]
    }
   ],
   "source": [
    "import google.generativeai as genai\n",
    "import os\n",
    "MODEL = \"gemini-2.0-flash-exp\"\n",
    "api_key = os.getenv('GEMINI_API_KEY')\n",
    "if not api_key:\n",
    "    raise ValueError(\"GEMINI_API_KEY environment variable not found\")\n",
    "\n",
    "genai.configure(api_key = api_key)\n",
    "model = genai.GenerativeModel(MODEL)\n",
    "judgeModel = genai.GenerativeModel(MODEL)\n"
   ]
  },
  {
   "cell_type": "code",
   "execution_count": 6,
   "metadata": {},
   "outputs": [
    {
     "name": "stdout",
     "output_type": "stream",
     "text": [
      "Input Order: large hot chocolate with coffee\n",
      "Output: [8] [large] [Hot chocolate] [add coffee]\n",
      "\n",
      "```json\n",
      "{\n",
      "    \"is_valid\": false,\n",
      "    \"confidence\": 0.2,\n",
      "    \"explanation\": \"The customer ordered a 'hot chocolate with coffee', which is not a standard menu item. The output maps the order as a 'hot chocolate' and 'add coffee'. This is an attempt to interpret the request but is not accurate enough. The correct action would be to ask the customer to clarify their order as this is an unusual order.\",\n",
      "    \"suggested_correction\": \"Clarify with the customer, as 'hot chocolate with coffee' is not a standard option. Suggest either a hot chocolate or a coffee and see what they prefer, or find out if there are other items they are interested in.\"\n",
      "}\n",
      "```\n",
      "\n"
     ]
    }
   ],
   "source": [
    "# get user order\n",
    "USER_ORDER = \"large hot chocolate with coffee\"\n",
    "PROMPT = generatePrompt(data,USER_ORDER)\n",
    "response = model.generate_content(PROMPT)\n",
    "print(response.text)\n",
    "judgeResponse = judgeModel.generate_content(generateJudgePrompt(response,data,USER_ORDER))\n",
    "print(judgeResponse.text)"
   ]
  },
  {
   "cell_type": "code",
   "execution_count": 7,
   "metadata": {},
   "outputs": [
    {
     "name": "stdout",
     "output_type": "stream",
     "text": [
      "8\n"
     ]
    }
   ],
   "source": [
    "# parse the output to only get the product\n",
    "import re\n",
    "\n",
    "def extract_number(text):\n",
    "    match = re.search(r'\\d+', text)\n",
    "    if match:\n",
    "        return match.group()\n",
    "    return None\n",
    "\n",
    "text = response.text\n",
    "output_id = extract_number(text)\n",
    "print(output_id)"
   ]
  }
 ],
 "metadata": {
  "kernelspec": {
   "display_name": "Python 3",
   "language": "python",
   "name": "python3"
  },
  "language_info": {
   "codemirror_mode": {
    "name": "ipython",
    "version": 3
   },
   "file_extension": ".py",
   "mimetype": "text/x-python",
   "name": "python",
   "nbconvert_exporter": "python",
   "pygments_lexer": "ipython3",
   "version": "3.12.0"
  }
 },
 "nbformat": 4,
 "nbformat_minor": 2
}
